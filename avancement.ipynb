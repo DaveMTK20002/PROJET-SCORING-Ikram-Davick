{
 "cells": [
  {
   "cell_type": "code",
   "execution_count": null,
   "id": "e6d9c3d0",
   "metadata": {},
   "outputs": [],
   "source": [
    "import pandas as pandas\n",
    "import numpy as numpy\n",
    "import matplotlib.pyplot as plt"
   ]
  },
  {
   "cell_type": "code",
   "execution_count": null,
   "id": "8b82522f",
   "metadata": {},
   "outputs": [],
   "source": [
    "data=pd.read_csv(\"data_seed2.txt\", sep=\"\")"
   ]
  }
 ],
 "metadata": {
  "kernelspec": {
   "display_name": "Python 3",
   "language": "python",
   "name": "python3"
  },
  "language_info": {
   "name": "python",
   "version": "3.13.3"
  }
 },
 "nbformat": 4,
 "nbformat_minor": 5
}
