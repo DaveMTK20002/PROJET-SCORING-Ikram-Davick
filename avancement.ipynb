{
 "cells": [
  {
   "cell_type": "code",
   "execution_count": 5,
   "id": "e6d9c3d0",
   "metadata": {},
   "outputs": [],
   "source": [
    "import pandas as pd\n",
    "import numpy as numpy\n",
    "import matplotlib.pyplot as plt"
   ]
  },
  {
   "cell_type": "code",
   "execution_count": 8,
   "id": "8b82522f",
   "metadata": {},
   "outputs": [
    {
     "name": "stderr",
     "output_type": "stream",
     "text": [
      "C:\\Users\\SOP TECH\\AppData\\Local\\Temp\\ipykernel_22504\\523261780.py:1: DtypeWarning: Columns (41,45,46,47,48,49,50,52,53,54,55,61,62,63,64,65,66,67,68,69,70,72,74,77,79,80,84,86,90,93,94,96,98,101,102,103,104,113,115,123,124,125,126) have mixed types. Specify dtype option on import or set low_memory=False.\n",
      "  data=pd.read_csv(\"data_seed2.txt\", sep=\"\\t\", decimal=\",\")\n"
     ]
    },
    {
     "data": {
      "text/html": [
       "<div>\n",
       "<style scoped>\n",
       "    .dataframe tbody tr th:only-of-type {\n",
       "        vertical-align: middle;\n",
       "    }\n",
       "\n",
       "    .dataframe tbody tr th {\n",
       "        vertical-align: top;\n",
       "    }\n",
       "\n",
       "    .dataframe thead th {\n",
       "        text-align: right;\n",
       "    }\n",
       "</style>\n",
       "<table border=\"1\" class=\"dataframe\">\n",
       "  <thead>\n",
       "    <tr style=\"text-align: right;\">\n",
       "      <th></th>\n",
       "      <th>DATDELHIS_Mm0</th>\n",
       "      <th>NUMTECPRS</th>\n",
       "      <th>SLDCRDMMS_SUM_Mm1</th>\n",
       "      <th>ENGAGEMENT_SUM_Mm1</th>\n",
       "      <th>Top_PRET_CONSO_Mm1</th>\n",
       "      <th>NBR_PRET_CONSO_Mm1</th>\n",
       "      <th>SLDCRDMMS_SUM_Mm2</th>\n",
       "      <th>ENGAGEMENT_SUM_Mm2</th>\n",
       "      <th>Top_PRET_CONSO_Mm2</th>\n",
       "      <th>NBR_PRET_CONSO_Mm2</th>\n",
       "      <th>...</th>\n",
       "      <th>CRTAD_AG_SOLDE_T1</th>\n",
       "      <th>CRTAD_AG_SOLDE_T2</th>\n",
       "      <th>ENCOURS_PAR</th>\n",
       "      <th>CRTAD_AG_NBJDE_BB</th>\n",
       "      <th>CRTAD_AG_NBJDE_BA</th>\n",
       "      <th>CRTAD_AG_NBJDE_BC</th>\n",
       "      <th>TOPCPTLITIG</th>\n",
       "      <th>SOMME_ENCOURS</th>\n",
       "      <th>cible</th>\n",
       "      <th>rnd_1_20</th>\n",
       "    </tr>\n",
       "  </thead>\n",
       "  <tbody>\n",
       "    <tr>\n",
       "      <th>0</th>\n",
       "      <td>202 410</td>\n",
       "      <td>9 201 003 869</td>\n",
       "      <td>0,00</td>\n",
       "      <td>800,00</td>\n",
       "      <td>0,00</td>\n",
       "      <td>0,00</td>\n",
       "      <td>0,00</td>\n",
       "      <td>800,00</td>\n",
       "      <td>0,00</td>\n",
       "      <td>0,00</td>\n",
       "      <td>...</td>\n",
       "      <td>-47 333,00</td>\n",
       "      <td>-13 333,00</td>\n",
       "      <td>0,00</td>\n",
       "      <td>92,00</td>\n",
       "      <td>262,00</td>\n",
       "      <td>5,00</td>\n",
       "      <td>0</td>\n",
       "      <td>0,00</td>\n",
       "      <td>0</td>\n",
       "      <td>2</td>\n",
       "    </tr>\n",
       "    <tr>\n",
       "      <th>1</th>\n",
       "      <td>202 410</td>\n",
       "      <td>9 599 624 616</td>\n",
       "      <td>1 152,00</td>\n",
       "      <td>200,00</td>\n",
       "      <td>0,00</td>\n",
       "      <td>0,00</td>\n",
       "      <td>1 755,00</td>\n",
       "      <td>200,00</td>\n",
       "      <td>0,00</td>\n",
       "      <td>0,00</td>\n",
       "      <td>...</td>\n",
       "      <td>-3 333,00</td>\n",
       "      <td>-3 000,00</td>\n",
       "      <td>1 000,00</td>\n",
       "      <td>71,00</td>\n",
       "      <td>321,00</td>\n",
       "      <td>54,00</td>\n",
       "      <td>0</td>\n",
       "      <td>1 000,00</td>\n",
       "      <td>0</td>\n",
       "      <td>2</td>\n",
       "    </tr>\n",
       "    <tr>\n",
       "      <th>2</th>\n",
       "      <td>202 412</td>\n",
       "      <td>1 413 515 491</td>\n",
       "      <td>87 805,00</td>\n",
       "      <td>6 680,61</td>\n",
       "      <td>1,00</td>\n",
       "      <td>1,00</td>\n",
       "      <td>76 354,00</td>\n",
       "      <td>6 738,46</td>\n",
       "      <td>1,00</td>\n",
       "      <td>1,00</td>\n",
       "      <td>...</td>\n",
       "      <td>220 333,00</td>\n",
       "      <td>146 666,00</td>\n",
       "      <td>157 084,00</td>\n",
       "      <td>0,00</td>\n",
       "      <td>13,00</td>\n",
       "      <td>0,00</td>\n",
       "      <td>0</td>\n",
       "      <td>157 084,00</td>\n",
       "      <td>0</td>\n",
       "      <td>2</td>\n",
       "    </tr>\n",
       "    <tr>\n",
       "      <th>3</th>\n",
       "      <td>202 404</td>\n",
       "      <td>1 600 773 833</td>\n",
       "      <td>2 468,00</td>\n",
       "      <td>200,00</td>\n",
       "      <td>0,00</td>\n",
       "      <td>0,00</td>\n",
       "      <td>2 534,00</td>\n",
       "      <td>200,00</td>\n",
       "      <td>0,00</td>\n",
       "      <td>0,00</td>\n",
       "      <td>...</td>\n",
       "      <td>3 666,00</td>\n",
       "      <td>8 333,00</td>\n",
       "      <td>57 333,00</td>\n",
       "      <td>12,00</td>\n",
       "      <td>17,00</td>\n",
       "      <td>0,00</td>\n",
       "      <td>0</td>\n",
       "      <td>57 333,00</td>\n",
       "      <td>0</td>\n",
       "      <td>2</td>\n",
       "    </tr>\n",
       "    <tr>\n",
       "      <th>4</th>\n",
       "      <td>202 409</td>\n",
       "      <td>2 661 466 041</td>\n",
       "      <td>513 708,00</td>\n",
       "      <td>1 000,00</td>\n",
       "      <td>0,00</td>\n",
       "      <td>0,00</td>\n",
       "      <td>257 317,00</td>\n",
       "      <td>1 000,00</td>\n",
       "      <td>0,00</td>\n",
       "      <td>0,00</td>\n",
       "      <td>...</td>\n",
       "      <td>370 333,00</td>\n",
       "      <td>210 666,00</td>\n",
       "      <td>0,00</td>\n",
       "      <td>9,00</td>\n",
       "      <td>247,00</td>\n",
       "      <td>60,00</td>\n",
       "      <td>0</td>\n",
       "      <td>0,00</td>\n",
       "      <td>0</td>\n",
       "      <td>2</td>\n",
       "    </tr>\n",
       "  </tbody>\n",
       "</table>\n",
       "<p>5 rows × 130 columns</p>\n",
       "</div>"
      ],
      "text/plain": [
       "  DATDELHIS_Mm0      NUMTECPRS SLDCRDMMS_SUM_Mm1 ENGAGEMENT_SUM_Mm1  \\\n",
       "0       202 410  9 201 003 869              0,00             800,00   \n",
       "1       202 410  9 599 624 616          1 152,00             200,00   \n",
       "2       202 412  1 413 515 491         87 805,00           6 680,61   \n",
       "3       202 404  1 600 773 833          2 468,00             200,00   \n",
       "4       202 409  2 661 466 041        513 708,00           1 000,00   \n",
       "\n",
       "  Top_PRET_CONSO_Mm1 NBR_PRET_CONSO_Mm1 SLDCRDMMS_SUM_Mm2 ENGAGEMENT_SUM_Mm2  \\\n",
       "0               0,00               0,00              0,00             800,00   \n",
       "1               0,00               0,00          1 755,00             200,00   \n",
       "2               1,00               1,00         76 354,00           6 738,46   \n",
       "3               0,00               0,00          2 534,00             200,00   \n",
       "4               0,00               0,00        257 317,00           1 000,00   \n",
       "\n",
       "  Top_PRET_CONSO_Mm2 NBR_PRET_CONSO_Mm2  ... CRTAD_AG_SOLDE_T1  \\\n",
       "0               0,00               0,00  ...        -47 333,00   \n",
       "1               0,00               0,00  ...         -3 333,00   \n",
       "2               1,00               1,00  ...        220 333,00   \n",
       "3               0,00               0,00  ...          3 666,00   \n",
       "4               0,00               0,00  ...        370 333,00   \n",
       "\n",
       "  CRTAD_AG_SOLDE_T2 ENCOURS_PAR CRTAD_AG_NBJDE_BB CRTAD_AG_NBJDE_BA  \\\n",
       "0        -13 333,00        0,00             92,00            262,00   \n",
       "1         -3 000,00    1 000,00             71,00            321,00   \n",
       "2        146 666,00  157 084,00              0,00             13,00   \n",
       "3          8 333,00   57 333,00             12,00             17,00   \n",
       "4        210 666,00        0,00              9,00            247,00   \n",
       "\n",
       "  CRTAD_AG_NBJDE_BC TOPCPTLITIG SOMME_ENCOURS cible rnd_1_20  \n",
       "0              5,00           0          0,00     0        2  \n",
       "1             54,00           0      1 000,00     0        2  \n",
       "2              0,00           0    157 084,00     0        2  \n",
       "3              0,00           0     57 333,00     0        2  \n",
       "4             60,00           0          0,00     0        2  \n",
       "\n",
       "[5 rows x 130 columns]"
      ]
     },
     "execution_count": 8,
     "metadata": {},
     "output_type": "execute_result"
    }
   ],
   "source": [
    "data=pd.read_csv(\"data_seed2.txt\", sep=\"\\t\", decimal=\",\")\n",
    "data.head()"
   ]
  },
  {
   "cell_type": "code",
   "execution_count": 12,
   "id": "8bc285f0",
   "metadata": {},
   "outputs": [
    {
     "data": {
      "text/plain": [
       "object     116\n",
       "int64        9\n",
       "float64      5\n",
       "Name: count, dtype: int64"
      ]
     },
     "execution_count": 12,
     "metadata": {},
     "output_type": "execute_result"
    }
   ],
   "source": [
    "data.dtypes.value_counts()"
   ]
  },
  {
   "cell_type": "code",
   "execution_count": 13,
   "id": "27cb1876",
   "metadata": {},
   "outputs": [
    {
     "data": {
      "text/plain": [
       "DATDELHIS_Mm0         object\n",
       "NUMTECPRS             object\n",
       "SLDCRDMMS_SUM_Mm1     object\n",
       "ENGAGEMENT_SUM_Mm1    object\n",
       "Top_PRET_CONSO_Mm1    object\n",
       "                       ...  \n",
       "CRTAD_AG_NBJDE_BC     object\n",
       "TOPCPTLITIG           object\n",
       "SOMME_ENCOURS         object\n",
       "cible                  int64\n",
       "rnd_1_20               int64\n",
       "Length: 130, dtype: object"
      ]
     },
     "execution_count": 13,
     "metadata": {},
     "output_type": "execute_result"
    }
   ],
   "source": [
    "data.dtypes"
   ]
  },
  {
   "cell_type": "code",
   "execution_count": 16,
   "id": "d110629a",
   "metadata": {},
   "outputs": [
    {
     "data": {
      "text/plain": [
       "0        0\n",
       "1        0\n",
       "2        0\n",
       "3        0\n",
       "4        0\n",
       "        ..\n",
       "54048    0\n",
       "54049    0\n",
       "54050    0\n",
       "54051    0\n",
       "54052    0\n",
       "Name: cible, Length: 54053, dtype: int64"
      ]
     },
     "execution_count": 16,
     "metadata": {},
     "output_type": "execute_result"
    }
   ],
   "source": [
    "data.cible"
   ]
  }
 ],
 "metadata": {
  "kernelspec": {
   "display_name": "Python 3",
   "language": "python",
   "name": "python3"
  },
  "language_info": {
   "codemirror_mode": {
    "name": "ipython",
    "version": 3
   },
   "file_extension": ".py",
   "mimetype": "text/x-python",
   "name": "python",
   "nbconvert_exporter": "python",
   "pygments_lexer": "ipython3",
   "version": "3.13.3"
  }
 },
 "nbformat": 4,
 "nbformat_minor": 5
}
